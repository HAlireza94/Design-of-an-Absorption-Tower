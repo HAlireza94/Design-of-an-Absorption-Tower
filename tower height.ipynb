{
 "cells": [
  {
   "cell_type": "code",
   "execution_count": 1,
   "id": "e8338f70",
   "metadata": {},
   "outputs": [],
   "source": [
    "import numpy as np\n",
    "import matplotlib.pyplot as plt\n",
    "from scipy.optimize import curve_fit\n",
    "from scipy.optimize import least_squares\n",
    "import pandas as pd\n",
    "from sklearn.metrics import r2_score\n",
    "import numpy as np\n",
    "import matplotlib.pyplot as plt\n",
    "from lmfit import Model\n",
    "from sympy import symbols, solve\n",
    "import openpyxl \n",
    "from sklearn.metrics import mean_absolute_error,mean_squared_error\n",
    "\n",
    "from scipy import integrate"
   ]
  },
  {
   "cell_type": "markdown",
   "id": "b7df8e2e",
   "metadata": {},
   "source": [
    "# EXAMPLE 22.7-1. Design of an Absorption Tower with a\n",
    "# Concentrated Gas Mixture"
   ]
  },
  {
   "cell_type": "code",
   "execution_count": 2,
   "id": "86196115",
   "metadata": {},
   "outputs": [],
   "source": [
    "# given values under the defined condition\n",
    "\n",
    "Mw_s = 64.0638\n",
    "Mw_air = 29\n",
    "Mw_water = 18\n",
    "cross_section_area = 0.0929\n",
    "\n",
    "V_p = 6.53*10**(-4) # V_p stands for V' [kg mol air/s]\n",
    "L_p = 4.2*0.01 # L_p stands for L' [kg mol/s]\n",
    "y1 = 0.2\n",
    "y2 = 0.02\n",
    "x2 = 0\n",
    "\n",
    "a1 = x2/(1-x2)\n",
    "a2 = y1/(1-y1)\n",
    "a3 = y2/(1-y2)\n",
    "\n",
    "a = a1 + (V_p/L_p)*(a2-a3)\n",
    "x1 = a/(1+a)\n",
    "\n",
    "a4 = x1/(1-x1)\n"
   ]
  },
  {
   "cell_type": "code",
   "execution_count": 3,
   "id": "5929b14c",
   "metadata": {},
   "outputs": [
    {
     "data": {
      "text/plain": [
       "[<matplotlib.lines.Line2D at 0x217134fdfd0>]"
      ]
     },
     "execution_count": 3,
     "metadata": {},
     "output_type": "execute_result"
    },
    {
     "data": {
      "image/png": "[encoded data removed]",
      "text/plain": [
       "<Figure size 432x288 with 1 Axes>"
      ]
     },
     "metadata": {
      "needs_background": "light"
     },
     "output_type": "display_data"
    }
   ],
   "source": [
    "# Defining Opertaing line\n",
    "\n",
    "def op(x):\n",
    "    \n",
    "    y = ((L_p/V_p)*(x/(1-x)) + a2 - (L_p/V_p)*a4)/(1 + ((L_p/V_p)*(x/(1-x)) + a2 - (L_p/V_p)*a4))\n",
    "    \n",
    "    return y\n",
    "\n",
    "# ploting data\n",
    "# x = np.linspace(x2,x1,5)\n",
    "x = [x2,0.000332,0.000855,0.00201,x1]\n",
    "Y = np.empty(len(x))\n",
    "for i in range(len(x)):\n",
    "    Y[i]=op(x[i])\n",
    "    \n",
    "plt.plot(x,Y)\n",
    "\n"
   ]
  },
  {
   "cell_type": "code",
   "execution_count": 61,
   "id": "778d9b6b",
   "metadata": {},
   "outputs": [],
   "source": [
    "## total liquid and gas in kg as Gy and Gx\n",
    "\n",
    "G_y=np.empty(len(Y))\n",
    "G_x=np.empty(len(x))\n",
    "L=np.empty(len(Y))\n",
    "V=np.empty(len(Y))\n",
    "\n",
    "for i in range(len(Y)):\n",
    "    G_y[i] = (V_p*Mw_air + V_p*(Y[i]/(1-Y[i]))*Mw_s)/cross_section_area\n",
    "    G_x[i] = (L_p*Mw_water + L_p*(x[i]/(1-x[i]))*Mw_s)/cross_section_area\n",
    "    \n",
    "    V[i] = V_p/(1-Y[i])\n",
    "    L[i] = L_p/(1-x[i])\n",
    "\n",
    "    "
   ]
  },
  {
   "cell_type": "code",
   "execution_count": 62,
   "id": "32cacbe8",
   "metadata": {},
   "outputs": [],
   "source": [
    "## calculating K'x a and K'y a \n",
    "\n",
    "k_p_x_a = np.empty(len(G_x)) # K'x a \n",
    "k_p_y_a = np.empty(len(G_x)) # K'y a\n",
    "\n",
    "for i in range(len(G_x)):\n",
    "    \n",
    "    k_p_x_a[i] = 0.152 * G_x[i]**(0.82)\n",
    "    k_p_y_a[i] = 0.0594 * G_y[i]**(0.7) * G_x[i]**(0.25)\n",
    "    \n",
    "\n",
    "\n",
    "\n"
   ]
  },
  {
   "cell_type": "code",
   "execution_count": 71,
   "id": "39fd348a",
   "metadata": {},
   "outputs": [],
   "source": [
    "# the interface compositions yi and xi must be determined, xi and yi\n",
    "\n",
    "xi = [0.0046,0.00103,0.00185,0.00355,0.00565]\n",
    "yi = [0.009,0.0235,0.0476,0.1015,0.1685]\n",
    "y_yi = np.empty(len(yi))\n",
    "for i in range(len(yi)):\n",
    "    y_yi[i] = Y[i] - yi[i]\n",
    "    \n",
    "Y_1_im = [0.985,0.968,0.941,0.885,0.816] # (1-y)iM\n",
    "\n",
    "\n",
    "## 1-y\n",
    "y_1 = np.empty(len(Y))\n",
    "\n",
    "for i in range(len(Y)):\n",
    "    y_1[i] = 1-Y[i]\n",
    "    \n"
   ]
  },
  {
   "cell_type": "code",
   "execution_count": 75,
   "id": "5a20de6f",
   "metadata": {},
   "outputs": [],
   "source": [
    "# defining integral equation for Z\n",
    "\n",
    "f = np.empty(len(y_yi))\n",
    "for i in range(len(y_yi)):\n",
    "    \n",
    "    f[i] = (V[i]*Y_1_im[i])/(k_p_y_a[i]*cross_section_area*y_1[i]*y_yi[i])\n"
   ]
  },
  {
   "cell_type": "code",
   "execution_count": 88,
   "id": "2234a1bb",
   "metadata": {},
   "outputs": [
    {
     "name": "stdout",
     "output_type": "stream",
     "text": [
      "Z = 1.5639905346993486\n"
     ]
    }
   ],
   "source": [
    "## Numericall integrating over data\n",
    "\n",
    "Z = integrate.simps(f,x=Y, dx=1, axis=-1, even='avg')\n",
    "\n",
    "print('Z = ' + str(Z))"
   ]
  }
 ],
 "metadata": {
  "kernelspec": {
   "display_name": "Python 3 (ipykernel)",
   "language": "python",
   "name": "python3"
  },
  "language_info": {
   "codemirror_mode": {
    "name": "ipython",
    "version": 3
   },
   "file_extension": ".py",
   "mimetype": "text/x-python",
   "name": "python",
   "nbconvert_exporter": "python",
   "pygments_lexer": "ipython3",
   "version": "3.10.9"
  }
 },
 "nbformat": 4,
 "nbformat_minor": 5
}
